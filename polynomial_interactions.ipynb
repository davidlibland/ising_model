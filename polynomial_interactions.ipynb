{
 "cells": [
  {
   "cell_type": "code",
   "execution_count": 1,
   "metadata": {
    "pycharm": {
     "is_executing": false,
     "metadata": false,
     "name": "#%%\n"
    }
   },
   "outputs": [],
   "source": [
    "import numpy as np\n",
    "import matplotlib.pyplot as plt\n"
   ]
  },
  {
   "cell_type": "markdown",
   "metadata": {
    "collapsed": true,
    "pycharm": {
     "name": "#%% md\n"
    }
   },
   "source": [
    "# Polynomial interactions\n",
    "In this notebook, we consider the an Ising model of \n",
    "the form\n",
    " \n",
    "$$ H[x] = \\sum_{i,j} A_{i,j} x_i x_j + \\sum_{i,j} B_{i,j,k} x_i x_j x_k $$\n",
    "\n",
    "where $A$ and $B$ denote a symmetric 2-tensor and a \n",
    "symmetric 3-tensor (respectively), and $x\\in \\{-1,1\\}^N$ is a Ising \n",
    "vector.\n",
    "The energy function of this Ising model is \n",
    "\n",
    "$$ p(x) = \\frac{1}{Z} \\operatorname{exp}(-H[x])$$\n",
    "\n",
    "where $Z$ is a normalizing constant.\n"
   ]
  },
  {
   "cell_type": "markdown",
   "metadata": {
    "pycharm": {
     "metadata": false,
     "name": "#%% md\n"
    }
   },
   "source": [
    "# Density class:\n",
    "We represent this density using a class \n",
    "\n",
    "```density_obj = PMF(A: np.ndarray, B: np.ndarray)```\n",
    "where `A` and `B` are `np.ndarray`'s of shape `(N, N)` and \n",
    "`(N, N, N)` respectively.\n"
   ]
  },
  {
   "cell_type": "code",
   "execution_count": 2,
   "metadata": {
    "pycharm": {
     "is_executing": false,
     "metadata": false,
     "name": "#%%\n"
    }
   },
   "outputs": [],
   "source": [
    "from src.polynomial_interactions_util import PMF\n",
    "N = 3\n",
    "A = np.random.randn(N, N)\n",
    "B = np.random.randn(N, N, N)\n",
    "density_obj = PMF(A, B)\n"
   ]
  },
  {
   "cell_type": "markdown",
   "metadata": {
    "pycharm": {
     "metadata": false,
     "name": "#%% md\n"
    }
   },
   "source": [
    "Instances of this class carry methods:\n",
    "1. `density_obj.pmf(x: np.ndarray)` which computes the probability\n",
    "mass function at a given batch of Ising variables. \n",
    "2. `density_obj.sample_exactly(shape: Tuple)` which returns samples of\n",
    "shape `(*shape, N)` from the Ising model. \n",
    "2. `density_obj.sample_Metropolis_Hastings(shape: Tuple)` which returns \n",
    "approximate samples of shape `(*shape, N)` from the Ising model; where\n",
    "the approximate samples are computed using the Metropolis-Hastings algorithm.\n",
    "\n"
   ]
  },
  {
   "cell_type": "markdown",
   "metadata": {
    "pycharm": {
     "metadata": false,
     "name": "#%% md\n"
    }
   },
   "source": [
    "# Convergence of exact sampling:\n",
    "\n",
    "We sample exactly from the pmf, and graph the convergence (in l2 norm) \n",
    "of the empirical distribution to the analytical distribution:\n"
   ]
  },
  {
   "cell_type": "code",
   "execution_count": 3,
   "metadata": {
    "pycharm": {
     "is_executing": false,
     "metadata": false,
     "name": "#%%\n"
    }
   },
   "outputs": [
    {
     "data": {
      "image/png": "[encoded data removed]",
      "text/plain": [
       "<Figure size 432x288 with 1 Axes>"
      ]
     },
     "metadata": {
      "needs_background": "light"
     },
     "output_type": "display_data"
    }
   ],
   "source": [
    "from src.tests.utils import estimate_empirical_distance_for_instance\n",
    "sample_sizes = list(range(1, 5000, 50))\n",
    "# Estimate the l2 distance between the empirical pmf\n",
    "# and the analytic pmf:\n",
    "# (Note that distances are sampled independently).\n",
    "l2_dists = [\n",
    "    estimate_empirical_distance_for_instance(\n",
    "        density_object=density_obj,\n",
    "        num_samples=n,\n",
    "        sampler=PMF.sample_exactly\n",
    "    )\n",
    "    for n in sample_sizes\n",
    "]\n",
    "plt.plot(sample_sizes, l2_dists)\n",
    "plt.show()\n",
    "\n",
    "\n"
   ]
  },
  {
   "cell_type": "markdown",
   "metadata": {
    "pycharm": {
     "metadata": false
    }
   },
   "source": [
    "# Convergence of MCMC sampling:\n",
    "\n",
    "We use the Metropolis-Hastings algorithm to approximately sample \n",
    "from the pmf, and graph the convergence (in l2 norm) \n",
    "of the empirical distribution to the analytical distribution:\n"
   ]
  },
  {
   "cell_type": "code",
   "execution_count": 4,
   "metadata": {
    "pycharm": {
     "is_executing": false,
     "metadata": false,
     "name": "#%%\n"
    }
   },
   "outputs": [
    {
     "data": {
      "image/png": "[encoded data removed]",
      "text/plain": [
       "<Figure size 432x288 with 1 Axes>"
      ]
     },
     "metadata": {
      "needs_background": "light"
     },
     "output_type": "display_data"
    }
   ],
   "source": [
    "from src.tests.utils import estimate_empirical_distance_for_instance\n",
    "# Estimate the l2 distance between the empirical pmf\n",
    "# and the analytic pmf:\n",
    "l2_dists = [\n",
    "    estimate_empirical_distance_for_instance(\n",
    "        density_object=density_obj,\n",
    "        num_samples=n,\n",
    "        sampler=PMF.sample_Metropolis_Hastings\n",
    "    )\n",
    "    for n in sample_sizes\n",
    "]\n",
    "plt.plot(sample_sizes, l2_dists)\n",
    "plt.show()\n"
   ]
  },
  {
   "cell_type": "markdown",
   "metadata": {
    "pycharm": {
     "metadata": false,
     "name": "#%% md\n"
    }
   },
   "source": [
    "Note that MCMC algorithm yields an empirical distribution which converges more\n",
    "slowly to the analytic distribution than `sample_exactly`.\n"
   ]
  },
  {
   "cell_type": "markdown",
   "metadata": {
    "pycharm": {
     "metadata": false,
     "name": "#%% md\n"
    }
   },
   "source": [
    "# Pairwise convergence of the sampling algorithms\n",
    "\n",
    "We now check that the empirical probability mass functions of the\n",
    "two sampling algorithms converge:\n"
   ]
  },
  {
   "cell_type": "code",
   "execution_count": 5,
   "metadata": {
    "pycharm": {
     "is_executing": false,
     "metadata": false,
     "name": "#%%\n"
    }
   },
   "outputs": [
    {
     "data": {
      "image/png": "[encoded data removed]",
      "text/plain": [
       "<Figure size 432x288 with 1 Axes>"
      ]
     },
     "metadata": {
      "needs_background": "light"
     },
     "output_type": "display_data"
    }
   ],
   "source": [
    "from src.pmf_utils import compute_empirical_pmf, l2_distance_between_pmfs\n",
    "sample_sizes = list(range(1, 50000, 250))\n",
    "# Compute the empirical pmfs for the exact sampler:\n",
    "# (Note that these are sampled independently).\n",
    "exactly_sampled_pmfs = [\n",
    "    compute_empirical_pmf(\n",
    "        density_obj.sample_exactly((n,))\n",
    "    )\n",
    "    for n in sample_sizes\n",
    "]\n",
    "# Compute the empirical pmfs for the approximate mcmc sampler:\n",
    "mcmc_sampled_pmfs = [\n",
    "    compute_empirical_pmf(\n",
    "        density_obj.sample_Metropolis_Hastings((n,))\n",
    "    )\n",
    "    for n in sample_sizes\n",
    "]\n",
    "# Compute the l2 distances between the pmfs:\n",
    "all_states = density_obj.all_states() \n",
    "l2_dists = [\n",
    "    l2_distance_between_pmfs(all_states, pmf1, pmf2)\n",
    "    for pmf1, pmf2 in zip(exactly_sampled_pmfs, mcmc_sampled_pmfs)\n",
    "]\n",
    "plt.plot(sample_sizes, l2_dists)\n",
    "plt.show()\n"
   ]
  },
  {
   "cell_type": "markdown",
   "metadata": {
    "pycharm": {
     "metadata": false,
     "name": "#%% md\n"
    }
   },
   "source": [
    "# Discussion:\n",
    "\n",
    "1. What issues arise for large $N$?\n",
    "    - Exact sampling for this distribution has complexity $O(2^N)$.\n",
    "     There is no way to improve this without any additional sparsity \n",
    "     assumptions on $A$ and $B$, since the underlying graphical model \n",
    "     has a maximal clique of size $N$ (the complete graph).\n",
    "    - Our version of the Metropolis-Hastings alogorithm has complexity\n",
    "    $O(N^3)$ (this is the complexity of the energy function), so it scales\n",
    "    to large $N$ far better. By contrast, some downsides of the MCMC sampler \n",
    "    are:\n",
    "        - The samples are approximate (and require some \"burn-in\" time to\n",
    "        converge.\n",
    "        - The samples are correlated. (Note, that our MCMC algorithm runs \n",
    "        several independent chains (10 by default) both to reduce correlations\n",
    "        and take advantage of fast vectorized operations in `numpy`).\n"
   ]
  }
 ],
 "metadata": {
  "kernelspec": {
   "display_name": "Python 3",
   "language": "python",
   "name": "python3"
  },
  "language_info": {
   "codemirror_mode": {
    "name": "ipython",
    "version": 3
   },
   "file_extension": ".py",
   "mimetype": "text/x-python",
   "name": "python",
   "nbconvert_exporter": "python",
   "pygments_lexer": "ipython3",
   "version": "3.6.8"
  },
  "stem_cell": {
   "cell_type": "raw",
   "metadata": {
    "pycharm": {
     "metadata": false
    }
   },
   "source": ""
  }
 },
 "nbformat": 4,
 "nbformat_minor": 1
}
